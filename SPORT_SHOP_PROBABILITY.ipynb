{
  "nbformat": 4,
  "nbformat_minor": 0,
  "metadata": {
    "kernelspec": {
      "display_name": "Python 3",
      "language": "python",
      "name": "python3"
    },
    "language_info": {
      "codemirror_mode": {
        "name": "ipython",
        "version": 3
      },
      "file_extension": ".py",
      "mimetype": "text/x-python",
      "name": "python",
      "nbconvert_exporter": "python",
      "pygments_lexer": "ipython3",
      "version": "3.7.6"
    },
    "colab": {
      "name": "SPORT SHOP_PROBABILITY.ipynb",
      "provenance": [],
      "collapsed_sections": []
    }
  },
  "cells": [
    {
      "cell_type": "markdown",
      "metadata": {
        "id": "iPoU2uN7TFlJ"
      },
      "source": [
        "Sport Shop is a store specialized in sportswear. Its flagship product is running shoes. The running shoes that they offer usually divide them into two groups: white running shoes (which are totally white) and colored shoes (which have two or more colors). The Chief of Inventories and the Marketing Team want to know the preferences of their customers regarding said products, for that they ask us to answer the following questions:\r\n",
        "\r\n",
        "- What is the probability that a person prefers white running shoes?\r\n",
        "\r\n",
        "- What is the probability the person is male AND prefers color running shoes?\r\n",
        "\r\n",
        "- What is the probability the person is female OR prefers color running shoes?"
      ]
    },
    {
      "cell_type": "code",
      "metadata": {
        "id": "z7tIvYc_JiUf"
      },
      "source": [
        "#Let's import the dataset that contains the pertinent information. We have taken as a study the last hundred purchases made by our customers."
      ],
      "execution_count": 1,
      "outputs": []
    },
    {
      "cell_type": "code",
      "metadata": {
        "id": "OE0VXwbUJiUg"
      },
      "source": [
        "import pandas as pd"
      ],
      "execution_count": null,
      "outputs": []
    },
    {
      "cell_type": "code",
      "metadata": {
        "id": "pJNOt0akJiUi"
      },
      "source": [
        "dataset = pd.read_excel('C:/Users/USUARIO/Documents/CRISTINA/DATA SCIENCE/PORTFOLIO/SPORT SHOP/SPORT SHOP.xlsx')"
      ],
      "execution_count": null,
      "outputs": []
    },
    {
      "cell_type": "code",
      "metadata": {
        "id": "yLb0OiQAT34Z"
      },
      "source": [
        "#Let's know the characteristics of our dataset"
      ],
      "execution_count": null,
      "outputs": []
    },
    {
      "cell_type": "code",
      "metadata": {
        "id": "kTquD9oKJiUi",
        "outputId": "5f9b39e0-a27f-42f0-874c-b7f2ec5925a5"
      },
      "source": [
        "dataset.head()"
      ],
      "execution_count": null,
      "outputs": [
        {
          "output_type": "execute_result",
          "data": {
            "text/html": [
              "<div>\n",
              "<style scoped>\n",
              "    .dataframe tbody tr th:only-of-type {\n",
              "        vertical-align: middle;\n",
              "    }\n",
              "\n",
              "    .dataframe tbody tr th {\n",
              "        vertical-align: top;\n",
              "    }\n",
              "\n",
              "    .dataframe thead th {\n",
              "        text-align: right;\n",
              "    }\n",
              "</style>\n",
              "<table border=\"1\" class=\"dataframe\">\n",
              "  <thead>\n",
              "    <tr style=\"text-align: right;\">\n",
              "      <th></th>\n",
              "      <th>GENDER</th>\n",
              "      <th>WHITE</th>\n",
              "      <th>COLORS</th>\n",
              "    </tr>\n",
              "  </thead>\n",
              "  <tbody>\n",
              "    <tr>\n",
              "      <th>0</th>\n",
              "      <td>FEMALE</td>\n",
              "      <td>NO</td>\n",
              "      <td>YES</td>\n",
              "    </tr>\n",
              "    <tr>\n",
              "      <th>1</th>\n",
              "      <td>MALE</td>\n",
              "      <td>YES</td>\n",
              "      <td>YES</td>\n",
              "    </tr>\n",
              "    <tr>\n",
              "      <th>2</th>\n",
              "      <td>FEMALE</td>\n",
              "      <td>YES</td>\n",
              "      <td>YES</td>\n",
              "    </tr>\n",
              "    <tr>\n",
              "      <th>3</th>\n",
              "      <td>MALE</td>\n",
              "      <td>YES</td>\n",
              "      <td>NO</td>\n",
              "    </tr>\n",
              "    <tr>\n",
              "      <th>4</th>\n",
              "      <td>FEMALE</td>\n",
              "      <td>YES</td>\n",
              "      <td>NO</td>\n",
              "    </tr>\n",
              "  </tbody>\n",
              "</table>\n",
              "</div>"
            ],
            "text/plain": [
              "   GENDER WHITE COLORS\n",
              "0  FEMALE    NO    YES\n",
              "1    MALE   YES    YES\n",
              "2  FEMALE   YES    YES\n",
              "3    MALE   YES     NO\n",
              "4  FEMALE   YES     NO"
            ]
          },
          "metadata": {
            "tags": []
          },
          "execution_count": 12
        }
      ]
    },
    {
      "cell_type": "code",
      "metadata": {
        "id": "eMeuve7KJiUm",
        "outputId": "e8838b06-e225-47a7-dee7-04bf23e71337"
      },
      "source": [
        "dataset.shape"
      ],
      "execution_count": null,
      "outputs": [
        {
          "output_type": "execute_result",
          "data": {
            "text/plain": [
              "(100, 3)"
            ]
          },
          "metadata": {
            "tags": []
          },
          "execution_count": 14
        }
      ]
    },
    {
      "cell_type": "code",
      "metadata": {
        "id": "EdHD0YICT9EJ"
      },
      "source": [
        "#Let's find out how many women and how many men bought white running shoes. For this we will make a contingency table."
      ],
      "execution_count": null,
      "outputs": []
    },
    {
      "cell_type": "code",
      "metadata": {
        "id": "iPvp76GVJiUn"
      },
      "source": [
        "contingency_white = pd.crosstab(dataset['GENDER'], dataset['WHITE'])"
      ],
      "execution_count": null,
      "outputs": []
    },
    {
      "cell_type": "code",
      "metadata": {
        "id": "a71_HV74JiUn",
        "outputId": "142dc2a6-e19d-400f-e963-e782a300942d"
      },
      "source": [
        "contingency_white"
      ],
      "execution_count": null,
      "outputs": [
        {
          "output_type": "execute_result",
          "data": {
            "text/html": [
              "<div>\n",
              "<style scoped>\n",
              "    .dataframe tbody tr th:only-of-type {\n",
              "        vertical-align: middle;\n",
              "    }\n",
              "\n",
              "    .dataframe tbody tr th {\n",
              "        vertical-align: top;\n",
              "    }\n",
              "\n",
              "    .dataframe thead th {\n",
              "        text-align: right;\n",
              "    }\n",
              "</style>\n",
              "<table border=\"1\" class=\"dataframe\">\n",
              "  <thead>\n",
              "    <tr style=\"text-align: right;\">\n",
              "      <th>WHITE</th>\n",
              "      <th>NO</th>\n",
              "      <th>YES</th>\n",
              "    </tr>\n",
              "    <tr>\n",
              "      <th>GENDER</th>\n",
              "      <th></th>\n",
              "      <th></th>\n",
              "    </tr>\n",
              "  </thead>\n",
              "  <tbody>\n",
              "    <tr>\n",
              "      <th>FEMALE</th>\n",
              "      <td>20</td>\n",
              "      <td>25</td>\n",
              "    </tr>\n",
              "    <tr>\n",
              "      <th>MALE</th>\n",
              "      <td>10</td>\n",
              "      <td>45</td>\n",
              "    </tr>\n",
              "  </tbody>\n",
              "</table>\n",
              "</div>"
            ],
            "text/plain": [
              "WHITE   NO  YES\n",
              "GENDER         \n",
              "FEMALE  20   25\n",
              "MALE    10   45"
            ]
          },
          "metadata": {
            "tags": []
          },
          "execution_count": 32
        }
      ]
    },
    {
      "cell_type": "code",
      "metadata": {
        "id": "JD_Tn87LUp4e"
      },
      "source": [
        "#Let's find out how many women and how many men bought colors running shoes. For this we will also make a contingency table."
      ],
      "execution_count": null,
      "outputs": []
    },
    {
      "cell_type": "code",
      "metadata": {
        "id": "L8sT3EzeJiUo"
      },
      "source": [
        "contingency_colors = pd.crosstab(dataset['GENDER'], dataset['COLORS'])"
      ],
      "execution_count": null,
      "outputs": []
    },
    {
      "cell_type": "code",
      "metadata": {
        "id": "58oZuIgNJiUp",
        "outputId": "0a7d2f27-8157-4c3d-a487-4b7fd107d0aa"
      },
      "source": [
        "contingency_colors"
      ],
      "execution_count": null,
      "outputs": [
        {
          "output_type": "execute_result",
          "data": {
            "text/html": [
              "<div>\n",
              "<style scoped>\n",
              "    .dataframe tbody tr th:only-of-type {\n",
              "        vertical-align: middle;\n",
              "    }\n",
              "\n",
              "    .dataframe tbody tr th {\n",
              "        vertical-align: top;\n",
              "    }\n",
              "\n",
              "    .dataframe thead th {\n",
              "        text-align: right;\n",
              "    }\n",
              "</style>\n",
              "<table border=\"1\" class=\"dataframe\">\n",
              "  <thead>\n",
              "    <tr style=\"text-align: right;\">\n",
              "      <th>COLORS</th>\n",
              "      <th>NO</th>\n",
              "      <th>YES</th>\n",
              "    </tr>\n",
              "    <tr>\n",
              "      <th>GENDER</th>\n",
              "      <th></th>\n",
              "      <th></th>\n",
              "    </tr>\n",
              "  </thead>\n",
              "  <tbody>\n",
              "    <tr>\n",
              "      <th>FEMALE</th>\n",
              "      <td>25</td>\n",
              "      <td>20</td>\n",
              "    </tr>\n",
              "    <tr>\n",
              "      <th>MALE</th>\n",
              "      <td>45</td>\n",
              "      <td>10</td>\n",
              "    </tr>\n",
              "  </tbody>\n",
              "</table>\n",
              "</div>"
            ],
            "text/plain": [
              "COLORS  NO  YES\n",
              "GENDER         \n",
              "FEMALE  25   20\n",
              "MALE    45   10"
            ]
          },
          "metadata": {
            "tags": []
          },
          "execution_count": 36
        }
      ]
    },
    {
      "cell_type": "code",
      "metadata": {
        "id": "89ZeW9_IVAOR"
      },
      "source": [
        "#Let's check all the customers under study."
      ],
      "execution_count": null,
      "outputs": []
    },
    {
      "cell_type": "code",
      "metadata": {
        "id": "GHae_NYgJiUq",
        "outputId": "f7e7652b-cd1e-43fa-90ce-74b038a55987"
      },
      "source": [
        "contingency_white.sum(axis = 1)"
      ],
      "execution_count": null,
      "outputs": [
        {
          "output_type": "execute_result",
          "data": {
            "text/plain": [
              "GENDER\n",
              "FEMALE    45\n",
              "MALE      55\n",
              "dtype: int64"
            ]
          },
          "metadata": {
            "tags": []
          },
          "execution_count": 57
        }
      ]
    },
    {
      "cell_type": "code",
      "metadata": {
        "id": "ahwrFg4vJiUr",
        "outputId": "35c09593-30b2-4525-98aa-77f0218af2fe"
      },
      "source": [
        "contingency_colors.sum(axis = 1)"
      ],
      "execution_count": null,
      "outputs": [
        {
          "output_type": "execute_result",
          "data": {
            "text/plain": [
              "GENDER\n",
              "FEMALE    45\n",
              "MALE      55\n",
              "dtype: int64"
            ]
          },
          "metadata": {
            "tags": []
          },
          "execution_count": 60
        }
      ]
    },
    {
      "cell_type": "code",
      "metadata": {
        "id": "BP7R-Rz8JiUr",
        "outputId": "961535ae-a5be-4560-b986-5da479a8844d"
      },
      "source": [
        "contingency_white.sum(axis = 0)"
      ],
      "execution_count": null,
      "outputs": [
        {
          "output_type": "execute_result",
          "data": {
            "text/plain": [
              "WHITE\n",
              "NO     30\n",
              "YES    70\n",
              "dtype: int64"
            ]
          },
          "metadata": {
            "tags": []
          },
          "execution_count": 58
        }
      ]
    },
    {
      "cell_type": "code",
      "metadata": {
        "id": "TI7PA9UUVSDZ"
      },
      "source": [
        "#Total number of customers"
      ],
      "execution_count": null,
      "outputs": []
    },
    {
      "cell_type": "code",
      "metadata": {
        "id": "JlYXkJHYJiUt",
        "outputId": "60660934-b975-492a-aad9-f0d9ada51a8e"
      },
      "source": [
        "30+70"
      ],
      "execution_count": null,
      "outputs": [
        {
          "output_type": "execute_result",
          "data": {
            "text/plain": [
              "100"
            ]
          },
          "metadata": {
            "tags": []
          },
          "execution_count": 79
        }
      ]
    },
    {
      "cell_type": "code",
      "metadata": {
        "id": "8uEjOKkEJiUt",
        "outputId": "4ed053b1-4c15-497d-89ff-8e410558dc12"
      },
      "source": [
        "contingency_colors.sum(axis = 0)"
      ],
      "execution_count": null,
      "outputs": [
        {
          "output_type": "execute_result",
          "data": {
            "text/plain": [
              "COLORS\n",
              "NO     70\n",
              "YES    30\n",
              "dtype: int64"
            ]
          },
          "metadata": {
            "tags": []
          },
          "execution_count": 59
        }
      ]
    },
    {
      "cell_type": "code",
      "metadata": {
        "id": "kdUHAKQDVv7H"
      },
      "source": [
        "#Total number of clients"
      ],
      "execution_count": null,
      "outputs": []
    },
    {
      "cell_type": "code",
      "metadata": {
        "id": "ynEtdEj7JiUu",
        "outputId": "fdbab186-7352-43c0-ae79-68fb0e9ce8d9"
      },
      "source": [
        "70+30"
      ],
      "execution_count": null,
      "outputs": [
        {
          "output_type": "execute_result",
          "data": {
            "text/plain": [
              "100"
            ]
          },
          "metadata": {
            "tags": []
          },
          "execution_count": 80
        }
      ]
    },
    {
      "cell_type": "code",
      "metadata": {
        "id": "_1LVqG0uJiUv"
      },
      "source": [
        "from IPython.display import display, Math, Latex"
      ],
      "execution_count": null,
      "outputs": []
    },
    {
      "cell_type": "code",
      "metadata": {
        "id": "CE3ltS1HJiUv"
      },
      "source": [
        "#Let's begin to establish our probability formulas in order to solve the questions asked by the work team."
      ],
      "execution_count": null,
      "outputs": []
    },
    {
      "cell_type": "markdown",
      "metadata": {
        "id": "w_Qw4oWqJiUw"
      },
      "source": [
        "What is the probability that a person prefers white running shoes?"
      ]
    },
    {
      "cell_type": "code",
      "metadata": {
        "id": "2E_RwkbPJiUw",
        "outputId": "c2d91836-5107-47c8-b9f2-b1c61574c14b"
      },
      "source": [
        "display(Math(r'P(white\\ running\\ shoes) = \\frac{70}{100}'))"
      ],
      "execution_count": null,
      "outputs": [
        {
          "output_type": "display_data",
          "data": {
            "text/latex": "$\\displaystyle P(white\\ running\\ shoes) = \\frac{70}{100}$",
            "text/plain": [
              "<IPython.core.display.Math object>"
            ]
          },
          "metadata": {
            "tags": []
          }
        }
      ]
    },
    {
      "cell_type": "code",
      "metadata": {
        "id": "Nc8DVh6MJiUx",
        "outputId": "10588f30-2727-4799-f83b-39a965d15e96"
      },
      "source": [
        "70/100"
      ],
      "execution_count": null,
      "outputs": [
        {
          "output_type": "execute_result",
          "data": {
            "text/plain": [
              "0.7"
            ]
          },
          "metadata": {
            "tags": []
          },
          "execution_count": 69
        }
      ]
    },
    {
      "cell_type": "markdown",
      "metadata": {
        "id": "MV8iBzKpJiUx"
      },
      "source": [
        "What is the probability the person is male AND prefers color running shoes?"
      ]
    },
    {
      "cell_type": "code",
      "metadata": {
        "id": "_IGXgGoVJiUy",
        "outputId": "17c184b2-e435-4c04-e963-ee4ba09350ad"
      },
      "source": [
        "display(Math(r'P(Male \\cap colors\\ running\\ shoes) = \\frac{10}{100}'))"
      ],
      "execution_count": null,
      "outputs": [
        {
          "output_type": "display_data",
          "data": {
            "text/latex": "$\\displaystyle P(Male \\cap colors\\ running\\ shoes) = \\frac{10}{100}$",
            "text/plain": [
              "<IPython.core.display.Math object>"
            ]
          },
          "metadata": {
            "tags": []
          }
        }
      ]
    },
    {
      "cell_type": "code",
      "metadata": {
        "id": "Zzpse0YXJiUy",
        "outputId": "a429552f-c2dd-470a-e05a-cf12e1086d93"
      },
      "source": [
        "10/100"
      ],
      "execution_count": null,
      "outputs": [
        {
          "output_type": "execute_result",
          "data": {
            "text/plain": [
              "0.1"
            ]
          },
          "metadata": {
            "tags": []
          },
          "execution_count": 70
        }
      ]
    },
    {
      "cell_type": "markdown",
      "metadata": {
        "id": "_uUhN1DGJiUz"
      },
      "source": [
        "What is the probability the person is female OR prefers color running shoes?"
      ]
    },
    {
      "cell_type": "code",
      "metadata": {
        "id": "_deoEXH1JiUz"
      },
      "source": [
        "# P(Female U colors running shoes) = P(Female) + P(color runnning shoes) – P(Female ∩ color running shoes)"
      ],
      "execution_count": null,
      "outputs": []
    },
    {
      "cell_type": "code",
      "metadata": {
        "id": "pqacPOV7JiU0",
        "outputId": "7c50d797-28b0-42ec-d062-7a8fab2524b5"
      },
      "source": [
        "45/100"
      ],
      "execution_count": null,
      "outputs": [
        {
          "output_type": "execute_result",
          "data": {
            "text/plain": [
              "0.45"
            ]
          },
          "metadata": {
            "tags": []
          },
          "execution_count": 74
        }
      ]
    },
    {
      "cell_type": "code",
      "metadata": {
        "id": "E3hRNG_9JiU1",
        "outputId": "1101179b-a6b9-4528-d5bd-84a852271130"
      },
      "source": [
        "30/100"
      ],
      "execution_count": null,
      "outputs": [
        {
          "output_type": "execute_result",
          "data": {
            "text/plain": [
              "0.3"
            ]
          },
          "metadata": {
            "tags": []
          },
          "execution_count": 75
        }
      ]
    },
    {
      "cell_type": "code",
      "metadata": {
        "id": "u4_dvFyEJiU1",
        "outputId": "0fe31130-fe86-49dc-a85a-5ff1d4c29cb6"
      },
      "source": [
        "20/100"
      ],
      "execution_count": null,
      "outputs": [
        {
          "output_type": "execute_result",
          "data": {
            "text/plain": [
              "0.2"
            ]
          },
          "metadata": {
            "tags": []
          },
          "execution_count": 76
        }
      ]
    },
    {
      "cell_type": "code",
      "metadata": {
        "id": "cnSKgEYoJiU2",
        "outputId": "9050fc1b-aa14-4486-cdad-7204a70387cb"
      },
      "source": [
        "0.45+0.3-0.2"
      ],
      "execution_count": null,
      "outputs": [
        {
          "output_type": "execute_result",
          "data": {
            "text/plain": [
              "0.55"
            ]
          },
          "metadata": {
            "tags": []
          },
          "execution_count": 78
        }
      ]
    },
    {
      "cell_type": "markdown",
      "metadata": {
        "id": "3grOG30Bal1T"
      },
      "source": [
        "We have reached the following conclusions:"
      ]
    },
    {
      "cell_type": "markdown",
      "metadata": {
        "id": "2N1LDF7Has7U"
      },
      "source": [
        "- What is the probability that a person prefers white running shoes?\r\n",
        "\r\n",
        "P=0.7, indicates that it exists a 70% probability that a customer prefers to buy white running shoes. Which means that this event is very likely to occur."
      ]
    },
    {
      "cell_type": "markdown",
      "metadata": {
        "id": "vCPnnMjdbJQO"
      },
      "source": [
        "- What is the probability the person is male AND prefers color running shoes?\r\n",
        "\r\n",
        "P=0.1, indicates that it exits a 10% probability that a customer is male and prefers to buy colored running shoes. If P=0.1, it is a probability very close to 0, which indicates that the event is very unlikely to occur."
      ]
    },
    {
      "cell_type": "markdown",
      "metadata": {
        "id": "eID5MLoWctYb"
      },
      "source": [
        "- What is the probability the person is female OR prefers color running shoes?\r\n",
        "\r\n",
        "P=0.55, indicates that it exists a 55% probability that a customer is female or prefers to buy color running shoes. If P=0.55 it is a probability very close to 1/2, which indicates that it is equally likely that this event occurs or not."
      ]
    }
  ]
}